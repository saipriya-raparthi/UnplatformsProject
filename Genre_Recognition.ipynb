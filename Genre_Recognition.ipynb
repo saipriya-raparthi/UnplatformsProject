{
  "cells": [
    {
      "cell_type": "markdown",
      "metadata": {
        "id": "view-in-github",
        "colab_type": "text"
      },
      "source": [
        "<a href=\"https://colab.research.google.com/github/saipriya-raparthi/UnplatformsProject/blob/main/Genre_Recognition.ipynb\" target=\"_parent\"><img src=\"https://colab.research.google.com/assets/colab-badge.svg\" alt=\"Open In Colab\"/></a>"
      ]
    },
    {
      "cell_type": "markdown",
      "metadata": {
        "id": "Ha00PMZkwiL7"
      },
      "source": [
        "Model to recognise genre of a musical file"
      ]
    },
    {
      "cell_type": "code",
      "execution_count": null,
      "metadata": {
        "colab": {
          "base_uri": "https://localhost:8080/"
        },
        "id": "uXa6waO-E6Vc",
        "outputId": "ef00f97a-2649-40e0-8d62-c47a913f04a6"
      },
      "outputs": [
        {
          "output_type": "stream",
          "name": "stdout",
          "text": [
            "Mounted at /content/drive\n"
          ]
        }
      ],
      "source": [
        "from google.colab import drive\n",
        "drive.mount('/content/drive')"
      ]
    },
    {
      "cell_type": "code",
      "execution_count": null,
      "metadata": {
        "id": "_miBam1kwiL9"
      },
      "outputs": [],
      "source": [
        "#importing packages\n",
        "\n",
        "import matplotlib.pyplot as plt\n",
        "import numpy as np\n",
        "import os\n",
        "import librosa\n",
        "import keras\n",
        "from keras import layers\n",
        "import keras.backend as K\n",
        "from tensorflow.keras.layers import Dense, Dropout, Flatten, Conv2D, MaxPooling2D"
      ]
    },
    {
      "cell_type": "markdown",
      "metadata": {
        "id": "tIGTRlErwiL_"
      },
      "source": [
        "# Importing the musical files from the dataset"
      ]
    },
    {
      "cell_type": "code",
      "execution_count": null,
      "metadata": {
        "id": "XTTLF4EKwiL_"
      },
      "outputs": [],
      "source": [
        "MUSIC = r'/content/drive/MyDrive/dataset-genre'\n",
        "music_dataset = []\n",
        "genre_target = []\n",
        "\n",
        "for i in os.listdir(MUSIC):\n",
        "    for j in os.listdir(MUSIC + \"//\" + i):\n",
        "        if i == 'Blues':\n",
        "            y,_ = librosa.load(MUSIC + \"//\" + i + \"//\" + j)\n",
        "            length = len(y)\n",
        "            for j in range(6):\n",
        "                if (j+1)*5*22050<=length:\n",
        "                    music_dataset.append(y[j*5*22050:(j+1)*5*22050]) # append adds the data to the array in the next colunm\n",
        "                    genre_target.append(0)\n",
        "        elif i == 'Classical':\n",
        "            y,_ = librosa.load(MUSIC + \"//\" + i + \"//\" + j)\n",
        "            length = len(y)\n",
        "            for j in range(6):\n",
        "                if (j+1)*5*22050<=length:\n",
        "                    music_dataset.append(y[j*5*22050:(j+1)*5*22050])\n",
        "                    genre_target.append(1)\n",
        "        elif i == 'Country':\n",
        "            y,_ = librosa.load(MUSIC + \"//\" + i + \"//\" + j)\n",
        "            length = len(y)\n",
        "            for j in range(6):\n",
        "                if (j+1)*5*22050<=length:\n",
        "                    music_dataset.append(y[j*5*22050:(j+1)*5*22050])\n",
        "                    genre_target.append(2)            \n",
        "        elif i == 'Disco':\n",
        "            y,_ = librosa.load(MUSIC + \"//\" + i + \"//\" + j)\n",
        "            length = len(y)\n",
        "            for j in range(6):\n",
        "                if (j+1)*5*22050<=length:\n",
        "                    music_dataset.append(y[j*5*22050:(j+1)*5*22050])\n",
        "                    genre_target.append(3)\n",
        "        elif i == 'Hiphop':\n",
        "            y,_ = librosa.load(MUSIC + \"//\" + i + \"//\" + j)\n",
        "            length = len(y)\n",
        "            for j in range(6):\n",
        "                if (j+1)*5*22050<=length:\n",
        "                    music_dataset.append(y[j*5*22050:(j+1)*5*22050])\n",
        "                    genre_target.append(4)   \n",
        "        elif i == 'Jazz':\n",
        "            y,_ = librosa.load(MUSIC + \"//\" + i + \"//\" + j)\n",
        "            length = len(y)\n",
        "            for j in range(6):\n",
        "                if (j+1)*5*22050<=length:\n",
        "                    music_dataset.append(y[j*5*22050:(j+1)*5*22050])\n",
        "                    genre_target.append(5)\n",
        "        elif i == 'Metal':\n",
        "            y,_ = librosa.load(MUSIC + \"//\" + i + \"//\" + j)\n",
        "            length = len(y)\n",
        "            for j in range(6):\n",
        "                if (j+1)*5*22050<=length:\n",
        "                    music_dataset.append(y[j*5*22050:(j+1)*5*22050])\n",
        "                    genre_target.append(6)         \n",
        "        elif i == 'Pop':\n",
        "            y,_ = librosa.load(MUSIC + \"//\" + i + \"//\" + j)\n",
        "            length = len(y)\n",
        "            for j in range(6):\n",
        "                if (j+1)*5*22050<=length:\n",
        "                    music_dataset.append(y[j*5*22050:(j+1)*5*22050])\n",
        "                    genre_target.append(7)              \n",
        "        elif i == 'Reggae':\n",
        "            y,_ = librosa.load(MUSIC + \"//\" + i + \"//\" + j)\n",
        "            length = len(y)\n",
        "            for j in range(6):\n",
        "                if (j+1)*5*22050<=length:\n",
        "                    music_dataset.append(y[j*5*22050:(j+1)*5*22050])\n",
        "                    genre_target.append(8)     \n",
        "        elif i == 'Rock':\n",
        "            y,_ = librosa.load(MUSIC + \"//\" + i + \"//\" + j)\n",
        "            length = len(y)\n",
        "            for j in range(6):\n",
        "                if (j+1)*5*22050<=length:\n",
        "                    music_dataset.append(y[j*5*22050:(j+1)*5*22050])\n",
        "                    genre_target.append(9)"
      ]
    },
    {
      "cell_type": "code",
      "execution_count": null,
      "metadata": {
        "colab": {
          "base_uri": "https://localhost:8080/"
        },
        "id": "0yVSy0_3wiMA",
        "outputId": "2a87149c-f5e0-49bf-d170-6f408dca0861"
      },
      "outputs": [
        {
          "output_type": "stream",
          "name": "stdout",
          "text": [
            "3651\n"
          ]
        }
      ],
      "source": [
        "total_no = len(music_dataset)\n",
        "print(total_no)"
      ]
    },
    {
      "cell_type": "markdown",
      "metadata": {
        "id": "6v_ay-VowiMA"
      },
      "source": [
        "# Finding features from the musical files"
      ]
    },
    {
      "cell_type": "code",
      "execution_count": null,
      "metadata": {
        "id": "sexQKw9ZwiMB"
      },
      "outputs": [],
      "source": [
        "zcr = np.zeros(total_no)\n",
        "centroid = np.zeros(total_no)\n",
        "rolloff = np.zeros(total_no)\n",
        "bandwidth=np.zeros(total_no)\n",
        "\n",
        "mfcc = np.zeros((total_no,20,216))\n",
        "\n",
        "for i in range(total_no):\n",
        "    zcr[i] = np.mean(librosa.feature.zero_crossing_rate(music_dataset[i])[0])\n",
        "    centroid[i] = np.mean(librosa.feature.spectral_centroid(y=music_dataset[i], sr=22050)[0])\n",
        "    rolloff[i] = np.mean(librosa.feature.spectral_rolloff(y=music_dataset[i], sr=22050)[0])\n",
        "    bandwidth[i]=np.mean(librosa.feature.spectral_bandwidth(y=music_dataset[i], sr=22050)[0])\n",
        "    mfcc[i] = librosa.power_to_db(librosa.feature.mfcc(y=music_dataset[i], sr=22050), ref=np.max)"
      ]
    },
    {
      "cell_type": "code",
      "execution_count": null,
      "metadata": {
        "id": "7zBuZVsEwiMB"
      },
      "outputs": [],
      "source": [
        "zcr_min = np.amin(zcr)\n",
        "zcr_max = np.amax(zcr)\n",
        "centroid_min = np.amin(centroid)\n",
        "centroid_max = np.amax(centroid)\n",
        "rolloff_min = np.amin(rolloff)\n",
        "rolloff_max = np.amax(rolloff)\n",
        "bandwidth_min=np.amin(bandwidth)\n",
        "bandwidth_max=np.amax(bandwidth)"
      ]
    },
    {
      "cell_type": "code",
      "execution_count": null,
      "metadata": {
        "id": "iUQWrHoKwiMC"
      },
      "outputs": [],
      "source": [
        "#Normalization\n",
        "numeric_features = np.zeros((total_no,4))\n",
        "numeric_features[:,0] = (zcr-zcr_min)/(zcr_max-zcr_min)\n",
        "numeric_features[:,1] = (centroid-centroid_min)/(centroid_max-centroid_min)\n",
        "numeric_features[:,2] = (rolloff-rolloff_min)/(rolloff_max-rolloff_min)\n",
        "numeric_features[:,3] = (bandwidth-bandwidth_min)/(bandwidth_max-bandwidth_min)"
      ]
    },
    {
      "cell_type": "code",
      "execution_count": null,
      "metadata": {
        "colab": {
          "base_uri": "https://localhost:8080/"
        },
        "id": "0IrFeeJvwiMC",
        "outputId": "07d274b2-270a-463d-fd74-79a2dbf74648"
      },
      "outputs": [
        {
          "output_type": "stream",
          "name": "stdout",
          "text": [
            "(3651, 20, 216)\n",
            "(3651, 4)\n"
          ]
        }
      ],
      "source": [
        "print(np.shape(mfcc))\n",
        "print(np.shape(numeric_features))"
      ]
    },
    {
      "cell_type": "markdown",
      "metadata": {
        "id": "t0rpbhRzwiMC"
      },
      "source": [
        "# Pre-Processing the dataset"
      ]
    },
    {
      "cell_type": "code",
      "execution_count": null,
      "metadata": {
        "id": "FVGtbumdwiMD"
      },
      "outputs": [],
      "source": [
        "#Shuffling the dataset\n",
        "import random\n",
        "X_numeric = np.zeros(np.shape(numeric_features))\n",
        "X_mfcc = np.zeros((3651,20,216,1))\n",
        "Y = np.zeros(len(genre_target))\n",
        "\n",
        "shuffle_index = [i for i in range(total_no)]\n",
        "random.shuffle(shuffle_index)\n",
        "for i in range(total_no):\n",
        "    X_numeric[i] = numeric_features[shuffle_index[i]]\n",
        "    X_mfcc[i,:,:,0] = mfcc[shuffle_index[i]]\n",
        "    Y[i] = genre_target[shuffle_index[i]]"
      ]
    },
    {
      "cell_type": "code",
      "execution_count": null,
      "metadata": {
        "id": "-SCK71SOwiMD"
      },
      "outputs": [],
      "source": [
        "#splitting the dataset to train and test set\n",
        "X_train_numeric = X_numeric[:2920]\n",
        "X_train_mfcc = X_mfcc[:2920]\n",
        "Y_train = Y[:2920]\n",
        "\n",
        "X_test_numeric = X_numeric[2920:]\n",
        "X_test_mfcc = X_mfcc[2920:]\n",
        "Y_test = Y[2920:]"
      ]
    },
    {
      "cell_type": "markdown",
      "metadata": {
        "id": "7mv8JiYYwiMD"
      },
      "source": [
        "# Feeding it to the Neural Network"
      ]
    },
    {
      "cell_type": "code",
      "execution_count": null,
      "metadata": {
        "id": "nc5ThgkXwiMD"
      },
      "outputs": [],
      "source": [
        "numeric = keras.Input(shape=(4,))\n",
        "image= keras.Input(shape=(20,216,1))\n",
        "\n",
        "x = layers.Dense(16, activation=\"relu\")(numeric)\n",
        "x = layers.Dense(8, activation=\"relu\")(x)\n",
        "x = keras.Model(inputs=numeric, outputs=x)\n",
        "\n",
        "\n",
        "\n",
        "y = layers.Conv2D(64, (3, 3), activation='relu', padding='same')(image)\n",
        "y = layers.Conv2D(64, (3, 3), activation='relu', padding='same')(y)\n",
        "y = layers.MaxPooling2D((2, 4), padding='same')(y)\n",
        " \n",
        "y = layers.Conv2D(32, (3, 3), activation='relu', padding='same')(y)\n",
        "y = layers.Conv2D(32, (3, 3), activation='relu', padding='same')(y)\n",
        "y = layers.Conv2D(32, (3, 3), activation='relu', padding='same')(y)\n",
        "y = layers.MaxPooling2D((2, 4), padding='same')(y)\n",
        " \n",
        "y = layers.Conv2D(16, (3, 3), activation='relu', padding='same')(y)\n",
        "y = layers.Conv2D(16, (3, 3), activation='relu', padding='same')(y)\n",
        "y = layers.Conv2D(16, (3, 3), activation='relu', padding='same')(y)\n",
        "y = layers.MaxPooling2D((2, 4), padding='same')(y)\n",
        "\n",
        "\n",
        "\n",
        "y = layers.Flatten()(y)\n",
        "y = keras.Model(inputs=image, outputs=y)\n",
        "\n",
        "combined = layers.concatenate([x.output, y.output])\n",
        "\n",
        "z = layers.Dense(1024, activation=\"relu\")(combined)\n",
        "\n",
        "z = layers.Dense(256, activation=\"relu\")(z)\n",
        "\n",
        "z = layers.Dense(11, activation=\"softmax\")(z)\n",
        "\n",
        "model = keras.Model(inputs=[x.input, y.input], outputs=z)"
      ]
    },
    {
      "cell_type": "code",
      "execution_count": null,
      "metadata": {
        "id": "Uj6OXxuEwiME"
      },
      "outputs": [],
      "source": [
        "model.compile(optimizer='adam',\n",
        "              loss='sparse_categorical_crossentropy',\n",
        "              metrics=['accuracy'])"
      ]
    },
    {
      "cell_type": "code",
      "execution_count": null,
      "metadata": {
        "colab": {
          "base_uri": "https://localhost:8080/"
        },
        "id": "SfPHWGTOwiME",
        "outputId": "46dc64f5-1b26-4a68-b1f9-d70ef50564ec"
      },
      "outputs": [
        {
          "output_type": "stream",
          "name": "stdout",
          "text": [
            "Epoch 1/25\n",
            "6/6 [==============================] - 93s 15s/step - loss: 2.4131 - accuracy: 0.1041\n",
            "Epoch 2/25\n",
            "6/6 [==============================] - 89s 15s/step - loss: 2.2449 - accuracy: 0.1860\n",
            "Epoch 3/25\n",
            "6/6 [==============================] - 88s 15s/step - loss: 2.1302 - accuracy: 0.2469\n",
            "Epoch 4/25\n",
            "6/6 [==============================] - 88s 15s/step - loss: 1.9658 - accuracy: 0.2979\n",
            "Epoch 5/25\n",
            "6/6 [==============================] - 88s 15s/step - loss: 1.8181 - accuracy: 0.3363\n",
            "Epoch 6/25\n",
            "6/6 [==============================] - 89s 15s/step - loss: 1.7513 - accuracy: 0.3846\n",
            "Epoch 7/25\n",
            "6/6 [==============================] - 89s 15s/step - loss: 1.6476 - accuracy: 0.4137\n",
            "Epoch 8/25\n",
            "6/6 [==============================] - 88s 15s/step - loss: 1.5591 - accuracy: 0.4401\n",
            "Epoch 9/25\n",
            "6/6 [==============================] - 88s 15s/step - loss: 1.4807 - accuracy: 0.4647\n",
            "Epoch 10/25\n",
            "6/6 [==============================] - 88s 15s/step - loss: 1.4308 - accuracy: 0.4836\n",
            "Epoch 11/25\n",
            "6/6 [==============================] - 88s 15s/step - loss: 1.3851 - accuracy: 0.4979\n",
            "Epoch 12/25\n",
            "6/6 [==============================] - 88s 15s/step - loss: 1.3193 - accuracy: 0.5178\n",
            "Epoch 13/25\n",
            "6/6 [==============================] - 89s 15s/step - loss: 1.2587 - accuracy: 0.5466\n",
            "Epoch 14/25\n",
            "6/6 [==============================] - 88s 15s/step - loss: 1.2205 - accuracy: 0.5695\n",
            "Epoch 15/25\n",
            "6/6 [==============================] - 89s 15s/step - loss: 1.1566 - accuracy: 0.5856\n",
            "Epoch 16/25\n",
            "6/6 [==============================] - 89s 15s/step - loss: 1.1106 - accuracy: 0.6086\n",
            "Epoch 17/25\n",
            "6/6 [==============================] - 89s 15s/step - loss: 1.0789 - accuracy: 0.6103\n",
            "Epoch 18/25\n",
            "6/6 [==============================] - 89s 15s/step - loss: 1.0991 - accuracy: 0.6055\n",
            "Epoch 19/25\n",
            "6/6 [==============================] - 89s 15s/step - loss: 1.0168 - accuracy: 0.6408\n",
            "Epoch 20/25\n",
            "6/6 [==============================] - 89s 15s/step - loss: 0.9161 - accuracy: 0.6750\n",
            "Epoch 21/25\n",
            "6/6 [==============================] - 89s 15s/step - loss: 0.8517 - accuracy: 0.6997\n",
            "Epoch 22/25\n",
            "6/6 [==============================] - 89s 15s/step - loss: 0.8245 - accuracy: 0.6997\n",
            "Epoch 23/25\n",
            "6/6 [==============================] - 90s 15s/step - loss: 0.7791 - accuracy: 0.7229\n",
            "Epoch 24/25\n",
            "6/6 [==============================] - 91s 15s/step - loss: 0.7842 - accuracy: 0.7277\n",
            "Epoch 25/25\n",
            "6/6 [==============================] - 89s 15s/step - loss: 0.7881 - accuracy: 0.7205\n"
          ]
        },
        {
          "output_type": "execute_result",
          "data": {
            "text/plain": [
              "<keras.callbacks.History at 0x7f0aeeae0a10>"
            ]
          },
          "metadata": {},
          "execution_count": 16
        }
      ],
      "source": [
        "# Fitting our neural network\n",
        "model.fit([X_train_numeric,X_train_mfcc],Y_train,epochs=25,batch_size=512)"
      ]
    },
    {
      "cell_type": "code",
      "execution_count": null,
      "metadata": {
        "colab": {
          "base_uri": "https://localhost:8080/"
        },
        "id": "yq-y5GWxwiME",
        "outputId": "f5c081ba-5c00-4248-e08e-18b2aaf1f24f"
      },
      "outputs": [
        {
          "output_type": "stream",
          "name": "stdout",
          "text": [
            "23/23 [==============================] - 6s 255ms/step - loss: 1.3581 - accuracy: 0.5431\n",
            "0.5430916547775269\n"
          ]
        }
      ],
      "source": [
        "test_loss, test_acc = model.evaluate([X_test_numeric,X_test_mfcc],Y_test)\n",
        "print(test_acc)"
      ]
    },
    {
      "cell_type": "markdown",
      "metadata": {
        "id": "wxx91eJCwiME"
      },
      "source": [
        "# The following is to check prediction for a custom input:"
      ]
    },
    {
      "cell_type": "code",
      "execution_count": null,
      "metadata": {
        "id": "LEN1E0mlwiMF"
      },
      "outputs": [],
      "source": [
        "def probability(y):\n",
        "    \n",
        "    test_dataset = []\n",
        "    length = len(y)\n",
        "    for j in range(1000):\n",
        "        if (j+1)*5*22050<=length:\n",
        "            test_dataset.append(y[j*5*22050:(j+1)*5*22050]/np.amax(np.abs(y[j*5*22050:(j+1)*5*22050])))\n",
        "    total_no_test = len(test_dataset)\n",
        "    \n",
        "    zcr_test = np.zeros(total_no_test)\n",
        "    centroid_test = np.zeros(total_no_test)\n",
        "    rolloff_test = np.zeros(total_no_test)\n",
        "    mfcc_test = np.zeros((total_no_test,20,216,1))\n",
        "\n",
        "    for i in range(total_no_test):\n",
        "        zcr_test[i] = np.mean(librosa.feature.zero_crossing_rate(test_dataset[i])[0])\n",
        "        centroid_test[i] = np.mean(librosa.feature.spectral_centroid(y=test_dataset[i], sr=22050)[0])\n",
        "        rolloff_test[i] = np.mean(librosa.feature.spectral_rolloff(y=test_dataset[i], sr=22050)[0])\n",
        "        mfcc_test[i,:,:,0] = librosa.power_to_db(librosa.feature.mfcc(y=test_dataset[i], sr=22050), ref=np.max)\n",
        "        \n",
        "    numeric_features_test = np.zeros((total_no_test,4))\n",
        "    numeric_features_test[:,0] = (zcr_test-zcr_min)/(zcr_max-zcr_min)\n",
        "    numeric_features_test[:,1] = (centroid_test-centroid_min)/(centroid_max-centroid_min)\n",
        "    numeric_features_test[:,2] = (rolloff_test-rolloff_min)/(rolloff_max-rolloff_min)\n",
        "    numeric_features[:,3] = (bandwidth-bandwidth_min)/(bandwidth_max-bandwidth_min)\n",
        "    \n",
        "    return (model.predict([numeric_features_test,mfcc_test]))"
      ]
    },
    {
      "cell_type": "markdown",
      "metadata": {
        "id": "fhHo-96ewiMF"
      },
      "source": [
        "# Genre Recognition Example"
      ]
    },
    {
      "cell_type": "code",
      "execution_count": null,
      "metadata": {
        "colab": {
          "base_uri": "https://localhost:8080/",
          "height": 475
        },
        "id": "heC5fzlQwiMF",
        "outputId": "5667b64a-bbdc-4733-fad4-f282ad97b8bf"
      },
      "outputs": [
        {
          "output_type": "stream",
          "name": "stdout",
          "text": [
            "The song is probably Reggae.\n"
          ]
        },
        {
          "output_type": "display_data",
          "data": {
            "text/plain": [
              "<Figure size 720x504 with 1 Axes>"
            ],
            "image/png": "[encoded data removed]"
          },
          "metadata": {
            "needs_background": "light"
          }
        }
      ],
      "source": [
        "path=r'/content/drive/MyDrive/dataset-genre/Reggae/reggae.00002.wav'\n",
        "y,sr = librosa.load(path, sr = 22050)\n",
        "prob = probability(y)\n",
        "x=np.array(['Blues','Classical','Country','Disco','Hiphop','Jazz','Metal','Pop','Reggae','Rock'])\n",
        "row = np.shape(prob)\n",
        "rows=row[0]\n",
        "column_sums=(prob.sum(axis=0))/rows\n",
        "max_1=np.argmax(column_sums)\n",
        "print(\"The song is probably \" + str(x[max_1]) + \".\")\n",
        "plt.figure(figsize=(10,7))\n",
        "plt.bar(x[0:10],column_sums[0:10]*100,width=0.5)\n",
        "plt.title('GENRE CLASSIFICATION')\n",
        "plt.xlabel('GENRES')\n",
        "plt.ylabel('PERCENTAGE')\n",
        "plt.grid()\n",
        "plt.show()"
      ]
    },
    {
      "cell_type": "code",
      "execution_count": null,
      "metadata": {
        "id": "FMKCbXF1wiMG"
      },
      "outputs": [],
      "source": [
        ""
      ]
    },
    {
      "cell_type": "code",
      "execution_count": null,
      "metadata": {
        "id": "SPXAmgyRwiMG"
      },
      "outputs": [],
      "source": [
        ""
      ]
    }
  ],
  "metadata": {
    "colab": {
      "collapsed_sections": [],
      "name": "Genre Recognition.ipynb",
      "provenance": [],
      "include_colab_link": true
    },
    "kernelspec": {
      "display_name": "Python 3",
      "language": "python",
      "name": "python3"
    },
    "language_info": {
      "codemirror_mode": {
        "name": "ipython",
        "version": 3
      },
      "file_extension": ".py",
      "mimetype": "text/x-python",
      "name": "python",
      "nbconvert_exporter": "python",
      "pygments_lexer": "ipython3",
      "version": "3.7.4"
    }
  },
  "nbformat": 4,
  "nbformat_minor": 0
}